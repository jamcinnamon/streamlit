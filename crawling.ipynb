{
 "cells": [
  {
   "cell_type": "code",
   "execution_count": 72,
   "metadata": {},
   "outputs": [],
   "source": [
    "from bs4 import BeautifulSoup\n",
    "import requests"
   ]
  },
  {
   "cell_type": "code",
   "execution_count": 85,
   "metadata": {},
   "outputs": [],
   "source": [
    "import pandas as pd"
   ]
  },
  {
   "cell_type": "code",
   "execution_count": 120,
   "metadata": {},
   "outputs": [],
   "source": [
    "\n",
    "\n",
    "def web_data(url):\n",
    "    headers = {'User-Agent': 'Mozilla/5.0 (Macintosh; Intel Mac OS X 10_15_7) AppleWebKit/537.36 (KHTML, like Gecko) Chrome/131.0.0.0 Safari/537.36'}\n",
    "    response = requests.get(url, headers=headers)\n",
    "    if response.status_code == 200:\n",
    "        soup = BeautifulSoup(response.text, 'html.parser')\n",
    "        title = soup.select_one('.article-head-title').text\n",
    "        date = soup.select_one('div').text\n",
    "        body = soup.select_one('div#article-view-content-div p')\n",
    "        return title, date, body\n",
    "    else:\n",
    "        print(\"errors\")\n",
    "        \n",
    "\n"
   ]
  },
  {
   "cell_type": "code",
   "execution_count": 87,
   "metadata": {},
   "outputs": [],
   "source": [
    "data = web_data('https://www.apparelnews.co.kr/news/news_view/?idx=212887')\n",
    "\n"
   ]
  },
  {
   "cell_type": "code",
   "execution_count": 88,
   "metadata": {},
   "outputs": [
    {
     "name": "stdout",
     "output_type": "stream",
     "text": [
      "(<h2>\n",
      "<span class=\"news_only\">[창간기획]</span>\t\t\t\t\t\tK패션, ‘소수의 취향’을 넘어, 글로벌 시장 한복판으로\t\t\t\t\t\t\t\t\t\t\t\t</h2>, <p class=\"date\">발행 2024년 09월 01일 </p>, [<p> </p>, <p> </p>, <p><strong>‘잔혹사’ 가까운 한국 패션 해외 도전 30년... 영광은 이제부터</strong></p>, <p><strong>우영미, 레지나표 등 패션 본산에서 성공한 한국 디자이너들</strong></p>, <p> </p>, <p><span>[어패럴뉴스 정민경</span><span> 기자] </span>우영미, 레지나표, 메종 김해김, 준지, 송지오.</p>, <p> </p>, <p>패션의 본산 유럽에서 한국을 알리고 있는 디자이너 브랜드들이다. 독자적인 디자인, 브랜딩 능력으로 해외 시장을 정면돌파한 이들은 프랑스 갤러리 라파예트, 쁘렝땅, 르 봉 마르셰 등 유명 백화점과 편집숍에서 상위권을 차지하며 유통되고 있다.</p>, <p> </p>, <p>우영미 디자이너는 2002년 파리 현지에서 ‘우영미’를 런칭, 당시 한국 패션에 대한 냉담한 분위기에도 뚝심 있는 전개로 유럽에서 인정받는 브랜드로 우뚝 섰고, 한국 하이 패션의 역사를 쌓는 주요 역할을 했다.</p>, <p> </p>, <p>뒤이어 표예진 디자이너가 2014년 런던에서 런칭한 ‘레지나표’, 김인태 디자이너가 2016년 파리에서 런칭한 ‘메종김해김’ 등이 현지 유통에 자리매김하며, 해당 조닝에서 선두 자리를 차지하고 있다. 유럽에서 런칭된 이들과 달리 ‘송지오’와 ‘준지’ 는 수년간 파리 패션위크 등에 참가하며 글로벌 인지도를 쌓아왔다.</p>, <p> </p>, <p>이들의 활약은 대중적인 패션 브랜드의 해외 진출에 마중물 같은 역할을 한다. 4대 패션위크의 ‘제안’이 아래로 흘러, 전 세계 패션 시장의 트렌드를 만들어 내듯, 파리를 비롯한 컬렉션 무대에 오르는 한국 디자이너들이 늘어날수록, 대중적인 패션 브랜드에 대한 호감도 역시 높아지기 때문이다.</p>, <p> </p>, <p> </p>, <p><strong>유럽 백화점서 </strong><strong>1</strong><strong>위</strong><strong>, </strong><strong>우영미와 레지나표</strong></p>, <p> </p>, <p>사실 국내 패션의 해외 진출기는 ‘잔혹사’에 가깝다. 최근 한국 패션 브랜드에 대한 해외 시장의 관심이 어느날 갑자기 만들어진 게 아니라는 뜻이다. 한국 패션 브랜드의 해외 도전기는 30년 가까운 유구한 역사가 있다.</p>, <p> </p>, <p>가장 먼저 이랜드가 있었다. 이랜드는 1994년 상해 생산 지사를 설립했고, 시장 잠재력을 파악한 2년 뒤 리테일 사업에 뛰어들었다. 지난해 중국 패션 사업의 매출은 전년 대비 11% 증가한 1조3,166억 원이다.</p>, <p> </p>, <p>1990년대 중반 이랜드를 필두로 해외 시장 공략에 나선 패션 업체는 줄잡아 200여 개. 이 중 80~90%가 중국에 몰려 있었다. 이때 중국에 직진출했던 기업 가운데 남아 있는 곳은 현재 이랜드가 유일하다. 그렇다고 실패한 시도였다 치부할 일이 아니다. 이 기간 국내 업체들은 수업료를 내며 해외 사업, 특히 직진출이라는 방식에 대한 경험을 쌓았다.</p>, <p> </p>, <p>그 결과 2000년대 이후 관점을 완전히 전환한 글로벌 비즈니스들이 시도되기 시작한다. 해외 유명 브랜드의 본사나 상표권을 인수하기 시작한 것인데, 태생이 한계라면 차라리 그 ‘출신 성분’을 사들이자는 공격적인 사업 전략에 따른 흐름이었다.</p>, <p> </p>, <p><strong>중국 진출 붐 지나 글로벌 본사</strong><strong>·</strong><strong>상표권 인수</strong></p>, <p> </p>, <p>2005년 성주인터내셔날이 ‘MCM’ 이태리 본사를, 2006년 태진인터내셔날이 ‘루이까또즈’ 프랑스 본사를, 2007년 휠라코리아가 ‘휠라’ 이태리 본사를 잇달아 인수했고, 현재까지도 이어지고 있다.</p>, <p> </p>, <p>F&amp;F는 2021년 ‘테일러메이드’, 2022년 ‘세르지오 타키니’를, 크리스에프앤씨는 2022년 ‘하이드로겐’을, 더네이쳐홀딩스는 지난 5월 ‘데우스 엑스 마키나’를 인수했다.</p>, <p> </p>, <p>라이선스로 해외 판로를 확대하는 성공 사례도 늘고 있다. ‘MLB’로 아시아 시장을 휩쓴 F&amp;F가 대표적이다. ‘MLB’는 해외 사업 매출이 2020년 말 중국 진출을 시작으로 3년 만에 1조 원을 넘겼고, 5년 만인 올해 2조 원 돌파를 목표로 하고 있다. 지난해 매출은 1조7,000억 원에 달한다. 올해는 중국, 홍콩, 대만, 태국 등 아시아 시장 확대에 속도를 내는 것은 물론, 인도와 중동 시장 진출까지 준비하고 있다. F&amp;F는 지난 7월 ‘MLB’에 이어 ‘디스커버리’의 중국, 일본, 대만, 홍콩 등 11개국에 대한 독점 라이선스 권리도 취득, 해외 시장에서 영향력을 더 키우게 됐다.</p>, <p> </p>, <p>최근 국내 패션 마켓의 대표적인 신흥 브랜드 중 하나인 ‘마리떼 프랑소와 저버’를 전개하고 있는 레이어는 지난 3월 프랑스 본사와 일본, 중국, 대만, 태국, 베트남 총 5개국 독점 라이선스 계약을 체결, 글로벌 시장으로 나간다.</p>, <p> </p>, <p> </p>, <p><strong>신흥 영패션</strong><strong>, </strong><strong>아시아의 패권 잡을 기회</strong></p>, <p> </p>, <p>프랑스 본사는 “본사가 가진 오랜 아카이브와 까다로운 한국 시장에서 브랜드를 성공시킨 레이어만의 독자적인 노하우가 시너지를 발휘할 것으로 기대하며, 글로벌 시장에서의 성공도 확신한다”고 독점 계약 배경을 말했다.</p>, <p> </p>, <p>유럽과 미주의 패션을 학습하며 성장해 온 한국의 디자인, 브랜딩 능력이 사실 세계적 수준에 올라선 지는 오래다. 10여 년 전부터 해외 전시와 쇼룸을 통해 진출을 시도해 온 앞선 행보들이 지금 영패션이 해외에서 인기를 얻는 데 중요한 밑거름이 되고 있다. 글로벌 시장에서 한국이라는 국가 브랜드의 위상이 높아졌고, 온라인, SNS 등을 통해 전 세계 소비자와 직접 소통할 수 있는 경로도 넓어졌다.</p>, <p> </p>, <p>마리떼 프랑소와 저버, 마르디메크르디, 마뗑킴 등 이머징 브랜드는 온라인 채널을 활용해 각 나라 제도권의 벽을 넘었고, 해외에 진출하는 단계에 이르렀다. 아직은 아시아에서의 인기로 한정되어 있지만, 아시아 패권을 거머쥐고 유럽을 관통해 전 세계로 뻗어 나갈 길이 머지 않았다.</p>, <p> </p>, <p> </p>, <p style=\"text-align: center;\"><strong><span style=\"font-size: 20px;\">한류의 완성은 ‘패션’... 일본 MZ의 워너비로 뜨는 K패션</span></strong></p>, <p> </p>, <p> </p>, <p><strong>디자인·가격·비주얼 콘텐츠 3박자</strong></p>, <p><strong>국내 강타 이후 일본서 흥행 돌풍</strong></p>, <p> </p>, <p>한국의 패션 마켓은 코로나 이후, 큰 변화를 맞았다. 팬데믹 기간 빠르게 성장한 마르디메크르디, 마리떼 프랑소와 저버, 마뗑킴, 이미스 등 온라인 기반 브랜드들이 제도권을 강타하며 판도가 흔들렸다.</p>, <p> </p>, <p>이른바 이머징 브랜드의 시대. 이들은 큰 공을 들이지 않고도, 국내를 넘어 빠르게 아시아로 보폭을 넓히고 있다. SNS와 이커머스 환경에서 해외 MZ들이 먼저 알아본 것이다.</p>, <p> </p>, <p>그중에서도 일본 시장에서의 인기는 가히 폭발적이다. 아시아에서 패션 선진국으로 꼽히는 일본. 요지야마모토, 이세이미야케, 꼼데가르송 등 글로벌 브랜드를 배출한 하이엔드 마켓의 벽은 여전히 높지만, 영패션 시장은 ‘무주공산’ 상태나 다름 없는 상황. 팬데믹 기간, 일본 영패션 시장을 구성했던 내셔널 브랜드의 정체, 유니크한 신규 브랜드의 부재 등이 요인으로 풀이된다.</p>, <p> </p>, <p>과거 한류를 좋아하는 소수의 취향에 그쳤던 한국 패션이, 이제는 콘텐츠 파워와 결합해 영향력이 막강해졌다. 일본 MZ를 사로잡은 이머징 브랜드들은 상품 자체도도 매력적이지만, 디자인과 품질 대비 뛰어난 가격경쟁력까지 갖췄다고 평가받는다.</p>, <p> </p>, <p>남다른 마케팅도 한 축이다. SNS와 팝업스토어 등 온·오프라인 채널을 복합적으로 활용한 마케팅인데, 엔터테이먼트와 결합한 감도 높은 비주얼 마케팅, 브랜딩에 초점을 맞춘 팝업스토어는 기존 일본 패션 브랜드에서 볼 수 없었던 콘텐츠다.</p>, <p> </p>, <p>‘마뗑킴’은 일본에서 팝업스토어를 운영할 때마다 인테리어로도 화제가 됐는데, 외벽에 의류 랩핑, 페인팅 등 아트적인 이미지를 추구하고, 브랜드 감성을 드러내는 오브제 활용으로 일본 MZ들의 인증샷 장소가 됐다.</p>, <p> </p>, <p>일본 패션 매장은 SI에 취약한 편인데, 한국 이머징 브랜드는 브랜딩의 중요한 요소로 상품을 담는 공간에도 아낌없이 투자한다.</p>, <p> </p>, <p>‘마르디메크르디’는 지난 6월 도쿄 다이칸야마에 약 100평 규모의 플래그십 스토어를 오픈했다. 브랜드만의 유니크한 감성을 느낄 수 있는 차별화된 공간 기획이 돋보였는데, 직관적이고 여유 있는 디스플레이로 쇼핑의 편의성도 높였다. 일본 시장은 국내 사업 초창기를 연상시킬 만큼 폭발적인 성과를 내고 있다. 올해 상반기 매출은 50억 원, 연내 목표로 한 100억 원을 순조롭게 달성할 것으로 보인다.</p>])\n"
     ]
    }
   ],
   "source": [
    "print(data)"
   ]
  },
  {
   "cell_type": "code",
   "execution_count": 108,
   "metadata": {},
   "outputs": [],
   "source": [
    "data2 = web_data('https://www.apparelnews.co.kr/news/news_view/?idx=215136')"
   ]
  },
  {
   "cell_type": "code",
   "execution_count": 109,
   "metadata": {},
   "outputs": [
    {
     "data": {
      "text/plain": [
       "(<h2>\n",
       " \t\t\t\t\t\t\t\t\t\t\t\tK패션, 올해 사업 핵심 키워드는 ‘글로벌’\t\t\t\t\t\t\t\t\t\t\t\t</h2>,\n",
       " <p class=\"date\">발행 2025년 01월 20일 </p>,\n",
       " [<p style=\"user-select: auto !important;\"> </p>,\n",
       "  <p style=\"user-select: auto !important;\"> </p>,\n",
       "  <p style=\"user-select: auto !important;\"><strong style=\"user-select: auto !important;\">내수 시장 위축</strong><strong style=\"user-select: auto !important;\">…</strong><strong style=\"user-select: auto !important;\">해외 사업으로 타개</strong></p>,\n",
       "  <p style=\"user-select: auto !important;\"><strong style=\"user-select: auto !important;\">일본</strong><strong style=\"user-select: auto !important;\">, </strong><strong style=\"user-select: auto !important;\">대만</strong><strong style=\"user-select: auto !important;\">, </strong><strong style=\"user-select: auto !important;\">태국 등 대상국 확 넓혀 </strong></p>,\n",
       "  <p style=\"user-select: auto !important;\"> </p>,\n",
       "  <p style=\"user-select: auto !important;\">[어패럴뉴스 정민경 기자] 올해 캐주얼 브랜드 상당수가 핵심 사업으로 해외 판로 확대에 속도를 낸다.</p>,\n",
       "  <p style=\"user-select: auto !important;\"> </p>,\n",
       "  <p style=\"user-select: auto !important;\">국내 정국 불안, 경기침체 장기화로 패션 시장 성장이 둔화하고 있는 가운데, K패션에 대한 수요가 높아지고 있는 해외에서 신성장 동력을 확보한다는 전략이다.</p>,\n",
       "  <p style=\"user-select: auto !important;\"> </p>,\n",
       "  <p style=\"user-select: auto !important;\">해외 진출 브랜드는 코드그라피, 마뗑킴, 마리떼프랑소와저버, 세터, 제너럴아이디어 등 불과 2년 새 급증했다. 이들은 중화권, 동남아, 일본 등 다양한 나라에 동시다발적으로 진입하고 있다. 한류 열풍으로 국가 브랜드의 위상이 높아지면서, 국내에서 얻은 인기가 아시아 전 지역으로 확산되는 흐름이 강해졌기 때문이다.</p>,\n",
       "  <p style=\"user-select: auto !important;\"> </p>,\n",
       "  <p style=\"user-select: auto !important;\">각국 현지 유통 기업들 역시 한국 패션에 대한 니즈가 높다. K패션을 선호하는 핵심 소비층 MZ세대를 유입시키기 위한 목적이다.</p>,\n",
       "  <p style=\"user-select: auto !important;\"> </p>,\n",
       "  <p style=\"user-select: auto !important;\">‘마뗑킴’, ‘마리떼’가 해외 사업 시작부터 대규모 수출 계약을 맺은 사례가 대표적이다. ‘마뗑킴’은 지난해 중화권 파트너사와 홍콩, 마카오, 대만에서 5년간 1,615억 원의 매출을, 무신사를 통해 일본에서 2029년까지 2,500억 원의 매출 달성을 계획했다.</p>,\n",
       "  <p style=\"user-select: auto !important;\"> </p>,\n",
       "  <p style=\"user-select: auto !important;\">‘마리떼’는 지난해 하반기 중화권, 일본, 태국 파트너사와 향후 5년간 5,800억 원 규모의 수출 계약을 체결했다.</p>,\n",
       "  <p style=\"user-select: auto !important;\"> </p>,\n",
       "  <p style=\"user-select: auto !important;\">시장 다각화를 빠르게 추진하고 있는 브랜드로는 ‘마르디메크르디’가 꼽힌다. 일본은 직접 전개하고, 중국, 대만, 홍콩, 마카오, 태국 등은 파트너사를 통해 매장을 늘리고 있다. 지난해 해외 매출은 500억 원, 올해는 15~20% 성장을 목표로 한다.</p>,\n",
       "  <p style=\"user-select: auto !important;\"> </p>,\n",
       "  <p style=\"user-select: auto !important;\"> </p>,\n",
       "  <p style=\"user-select: auto !important;\"><strong style=\"user-select: auto !important;\">중화권</strong><strong style=\"user-select: auto !important;\">, 동남아</strong><strong style=\"user-select: auto !important;\"> 등 동시다발 진입</strong></p>,\n",
       "  <p style=\"user-select: auto !important;\"> </p>,\n",
       "  <p style=\"user-select: auto !important;\">지난해 말에는 인도네시아, 올해는 말레이시아, 미국으로 판로를 넓힌다. 인도네시아에는 지난해 12월 6일 자카르타에 위치한 세나얀시티몰에 첫 매장을 오픈, 24일간 3억 원의 매출을 달성했다. 이는 여성 패션 브랜드(명품, SPA 제외) 가운데 가장 높은 실적이다.</p>,\n",
       "  <p style=\"user-select: auto !important;\"> </p>,\n",
       "  <p style=\"user-select: auto !important;\">비케이브는 지난해 말 ‘커버낫’ 해외사업팀을 전사 해외사업본부로 승격, ‘커버낫’과 ‘와키윌리’ 해외 사업에 드라이브를 건다. 중국에서 해외 사업을 시작했던 ‘커버낫’은 마카오, 태국 각각 현지 기업과 총판사 계약을 맺었고, 곧 마카오에 2개 매장을 연다.</p>,\n",
       "  <p style=\"user-select: auto !important;\"> </p>,\n",
       "  <p style=\"user-select: auto !important;\">대만에는 이번 하반기에 법인을 설립하고, ‘커버낫’, ‘와키윌리’를 전개한다. 이와 함께 일본 진출을 위한 사업 계획을 수립하고 있다.</p>,\n",
       "  <p style=\"user-select: auto !important;\"> </p>,\n",
       "  <p style=\"user-select: auto !important;\">‘세터’는 지난해 11월 현대백화점과 파르코 시부야점에서 6일간 팝업스토어를 운영하여 2억 원의 매출을 달성, 현지 좋은 반응을 살폈다. 곧 현지 파트나서를 선정하고 본격적인 사업 확장에 나선다. 대만에는 오는 2월 플래그십 스토어, 백화점 매장 2개를 오픈한다. 태국에는 이달 30일부터 센트럴월드를 시작으로, 시암디스커버리, 아이콘시암, 메가방나 4곳에서 순차적으로 팝업스토어를 연다. 나라별 각각 고객 니즈에 부합한 단독 상품 전개 등 빠른 시장 안착을 꾀하기 위한 영업 전략을 수립했다.</p>,\n",
       "  <p style=\"user-select: auto !important;\"> </p>,\n",
       "  <p style=\"user-select: auto !important;\"> </p>,\n",
       "  <p style=\"user-select: auto !important;\"><strong style=\"user-select: auto !important;\">진출 </strong><strong style=\"user-select: auto !important;\">1</strong><strong style=\"user-select: auto !important;\">번지 </strong><strong style=\"user-select: auto !important;\">‘</strong><strong style=\"user-select: auto !important;\">일본</strong><strong style=\"user-select: auto !important;\">’</strong><strong style=\"user-select: auto !important;\">…</strong><strong style=\"user-select: auto !important;\">성공 사례 속속</strong></p>,\n",
       "  <p style=\"user-select: auto !important;\"> </p>,\n",
       "  <p style=\"user-select: auto !important;\">캐주얼 브랜드가 가장 선호하는 진출 국가는 일본이다. 변동성이 큰 중국은 리스크가 있다고 판단, 해외 사업의 무게를 일본으로 옮기고 있는 추세다.</p>,\n",
       "  <p style=\"user-select: auto !important;\"> </p>,\n",
       "  <p style=\"user-select: auto !important;\">중국은 자국 브랜드의 성장으로 경쟁이 한층 치열해졌고, 경기침체가 가속화되면서 신규 진출에 대한 부정적인 시그널이 커지고 있다. 반면 일본은 최근 한국 브랜드의 성공 사례가 속속 등장하면서 주목도가 높아졌다.</p>,\n",
       "  <p style=\"user-select: auto !important;\"> </p>,\n",
       "  <p style=\"user-select: auto !important;\">‘마르디메크르디’는 지난해 일본 직진출한 첫해, 국내 사업 초창기를 연상시킬 만큼 폭발적인 인기를 누리며 150억 원의 매출을 달성했다. 올해 상반기 내 오사카에 2호점을 열고, 추후 나고야 등 주요 거점 지역으로 매장을 확대할 계획이다.</p>,\n",
       "  <p style=\"user-select: auto !important;\"> </p>,\n",
       "  <p style=\"user-select: auto !important;\">2023년 도쿄 하라주쿠 우라하라에 플래그십 스토어를 오픈하며 본격적인 사업에 나선 ‘디스이즈네버댓’은 지난해 120억 원의 매출을 기록, 국내 스트리트 패션 브랜드 가운데 가장 뛰어난 실적을 거뒀다.</p>,\n",
       "  <p style=\"user-select: auto !important;\"> </p>,\n",
       "  <p style=\"user-select: auto !important;\">일본 패션 시장은 한국보다 2배 크지만, 일본인들의 보수적인 소비 성향으로 시장 안착 속도가 느리다는 점을 감안하면 고무적인 성과다.</p>,\n",
       "  <p style=\"user-select: auto !important;\"> </p>,\n",
       "  <p style=\"user-select: auto !important;\">지난해 3월 일본 사업을 시작한 ‘코드그라피’는 ‘K패션’ 타이틀을 강조하기보다 현지 브랜드와 같이 스토리에 집중한 브랜딩 전략을 취했다. 오프라인에서 먼저 반응이 일어났는데, 오사카 쇼핑몰 헵파이브 매장 등 3개 점은 월 8,000~9,000만 원의 안정적인 매출을 내고 있다. 다음 달에는 하라주쿠 라포레 쇼핑몰에 4호점을 오픈하고, 추가로 4~5개 점을 구축한다.</p>])"
      ]
     },
     "execution_count": 109,
     "metadata": {},
     "output_type": "execute_result"
    }
   ],
   "source": [
    "data2"
   ]
  },
  {
   "cell_type": "code",
   "execution_count": 107,
   "metadata": {},
   "outputs": [
    {
     "data": {
      "text/plain": [
       "[<p style=\"user-select: auto !important;\"> </p>,\n",
       " <p style=\"user-select: auto !important;\"> </p>,\n",
       " <p style=\"user-select: auto !important;\"><strong style=\"user-select: auto !important;\">내수 시장 위축</strong><strong style=\"user-select: auto !important;\">…</strong><strong style=\"user-select: auto !important;\">해외 사업으로 타개</strong></p>,\n",
       " <p style=\"user-select: auto !important;\"><strong style=\"user-select: auto !important;\">일본</strong><strong style=\"user-select: auto !important;\">, </strong><strong style=\"user-select: auto !important;\">대만</strong><strong style=\"user-select: auto !important;\">, </strong><strong style=\"user-select: auto !important;\">태국 등 대상국 확 넓혀 </strong></p>,\n",
       " <p style=\"user-select: auto !important;\"> </p>,\n",
       " <p style=\"user-select: auto !important;\">[어패럴뉴스 정민경 기자] 올해 캐주얼 브랜드 상당수가 핵심 사업으로 해외 판로 확대에 속도를 낸다.</p>,\n",
       " <p style=\"user-select: auto !important;\"> </p>,\n",
       " <p style=\"user-select: auto !important;\">국내 정국 불안, 경기침체 장기화로 패션 시장 성장이 둔화하고 있는 가운데, K패션에 대한 수요가 높아지고 있는 해외에서 신성장 동력을 확보한다는 전략이다.</p>,\n",
       " <p style=\"user-select: auto !important;\"> </p>,\n",
       " <p style=\"user-select: auto !important;\">해외 진출 브랜드는 코드그라피, 마뗑킴, 마리떼프랑소와저버, 세터, 제너럴아이디어 등 불과 2년 새 급증했다. 이들은 중화권, 동남아, 일본 등 다양한 나라에 동시다발적으로 진입하고 있다. 한류 열풍으로 국가 브랜드의 위상이 높아지면서, 국내에서 얻은 인기가 아시아 전 지역으로 확산되는 흐름이 강해졌기 때문이다.</p>,\n",
       " <p style=\"user-select: auto !important;\"> </p>,\n",
       " <p style=\"user-select: auto !important;\">각국 현지 유통 기업들 역시 한국 패션에 대한 니즈가 높다. K패션을 선호하는 핵심 소비층 MZ세대를 유입시키기 위한 목적이다.</p>,\n",
       " <p style=\"user-select: auto !important;\"> </p>,\n",
       " <p style=\"user-select: auto !important;\">‘마뗑킴’, ‘마리떼’가 해외 사업 시작부터 대규모 수출 계약을 맺은 사례가 대표적이다. ‘마뗑킴’은 지난해 중화권 파트너사와 홍콩, 마카오, 대만에서 5년간 1,615억 원의 매출을, 무신사를 통해 일본에서 2029년까지 2,500억 원의 매출 달성을 계획했다.</p>,\n",
       " <p style=\"user-select: auto !important;\"> </p>,\n",
       " <p style=\"user-select: auto !important;\">‘마리떼’는 지난해 하반기 중화권, 일본, 태국 파트너사와 향후 5년간 5,800억 원 규모의 수출 계약을 체결했다.</p>,\n",
       " <p style=\"user-select: auto !important;\"> </p>,\n",
       " <p style=\"user-select: auto !important;\">시장 다각화를 빠르게 추진하고 있는 브랜드로는 ‘마르디메크르디’가 꼽힌다. 일본은 직접 전개하고, 중국, 대만, 홍콩, 마카오, 태국 등은 파트너사를 통해 매장을 늘리고 있다. 지난해 해외 매출은 500억 원, 올해는 15~20% 성장을 목표로 한다.</p>,\n",
       " <p style=\"user-select: auto !important;\"> </p>,\n",
       " <p style=\"user-select: auto !important;\"> </p>,\n",
       " <p style=\"user-select: auto !important;\"><strong style=\"user-select: auto !important;\">중화권</strong><strong style=\"user-select: auto !important;\">, 동남아</strong><strong style=\"user-select: auto !important;\"> 등 동시다발 진입</strong></p>,\n",
       " <p style=\"user-select: auto !important;\"> </p>,\n",
       " <p style=\"user-select: auto !important;\">지난해 말에는 인도네시아, 올해는 말레이시아, 미국으로 판로를 넓힌다. 인도네시아에는 지난해 12월 6일 자카르타에 위치한 세나얀시티몰에 첫 매장을 오픈, 24일간 3억 원의 매출을 달성했다. 이는 여성 패션 브랜드(명품, SPA 제외) 가운데 가장 높은 실적이다.</p>,\n",
       " <p style=\"user-select: auto !important;\"> </p>,\n",
       " <p style=\"user-select: auto !important;\">비케이브는 지난해 말 ‘커버낫’ 해외사업팀을 전사 해외사업본부로 승격, ‘커버낫’과 ‘와키윌리’ 해외 사업에 드라이브를 건다. 중국에서 해외 사업을 시작했던 ‘커버낫’은 마카오, 태국 각각 현지 기업과 총판사 계약을 맺었고, 곧 마카오에 2개 매장을 연다.</p>,\n",
       " <p style=\"user-select: auto !important;\"> </p>,\n",
       " <p style=\"user-select: auto !important;\">대만에는 이번 하반기에 법인을 설립하고, ‘커버낫’, ‘와키윌리’를 전개한다. 이와 함께 일본 진출을 위한 사업 계획을 수립하고 있다.</p>,\n",
       " <p style=\"user-select: auto !important;\"> </p>,\n",
       " <p style=\"user-select: auto !important;\">‘세터’는 지난해 11월 현대백화점과 파르코 시부야점에서 6일간 팝업스토어를 운영하여 2억 원의 매출을 달성, 현지 좋은 반응을 살폈다. 곧 현지 파트나서를 선정하고 본격적인 사업 확장에 나선다. 대만에는 오는 2월 플래그십 스토어, 백화점 매장 2개를 오픈한다. 태국에는 이달 30일부터 센트럴월드를 시작으로, 시암디스커버리, 아이콘시암, 메가방나 4곳에서 순차적으로 팝업스토어를 연다. 나라별 각각 고객 니즈에 부합한 단독 상품 전개 등 빠른 시장 안착을 꾀하기 위한 영업 전략을 수립했다.</p>,\n",
       " <p style=\"user-select: auto !important;\"> </p>,\n",
       " <p style=\"user-select: auto !important;\"> </p>,\n",
       " <p style=\"user-select: auto !important;\"><strong style=\"user-select: auto !important;\">진출 </strong><strong style=\"user-select: auto !important;\">1</strong><strong style=\"user-select: auto !important;\">번지 </strong><strong style=\"user-select: auto !important;\">‘</strong><strong style=\"user-select: auto !important;\">일본</strong><strong style=\"user-select: auto !important;\">’</strong><strong style=\"user-select: auto !important;\">…</strong><strong style=\"user-select: auto !important;\">성공 사례 속속</strong></p>,\n",
       " <p style=\"user-select: auto !important;\"> </p>,\n",
       " <p style=\"user-select: auto !important;\">캐주얼 브랜드가 가장 선호하는 진출 국가는 일본이다. 변동성이 큰 중국은 리스크가 있다고 판단, 해외 사업의 무게를 일본으로 옮기고 있는 추세다.</p>,\n",
       " <p style=\"user-select: auto !important;\"> </p>,\n",
       " <p style=\"user-select: auto !important;\">중국은 자국 브랜드의 성장으로 경쟁이 한층 치열해졌고, 경기침체가 가속화되면서 신규 진출에 대한 부정적인 시그널이 커지고 있다. 반면 일본은 최근 한국 브랜드의 성공 사례가 속속 등장하면서 주목도가 높아졌다.</p>,\n",
       " <p style=\"user-select: auto !important;\"> </p>,\n",
       " <p style=\"user-select: auto !important;\">‘마르디메크르디’는 지난해 일본 직진출한 첫해, 국내 사업 초창기를 연상시킬 만큼 폭발적인 인기를 누리며 150억 원의 매출을 달성했다. 올해 상반기 내 오사카에 2호점을 열고, 추후 나고야 등 주요 거점 지역으로 매장을 확대할 계획이다.</p>,\n",
       " <p style=\"user-select: auto !important;\"> </p>,\n",
       " <p style=\"user-select: auto !important;\">2023년 도쿄 하라주쿠 우라하라에 플래그십 스토어를 오픈하며 본격적인 사업에 나선 ‘디스이즈네버댓’은 지난해 120억 원의 매출을 기록, 국내 스트리트 패션 브랜드 가운데 가장 뛰어난 실적을 거뒀다.</p>,\n",
       " <p style=\"user-select: auto !important;\"> </p>,\n",
       " <p style=\"user-select: auto !important;\">일본 패션 시장은 한국보다 2배 크지만, 일본인들의 보수적인 소비 성향으로 시장 안착 속도가 느리다는 점을 감안하면 고무적인 성과다.</p>,\n",
       " <p style=\"user-select: auto !important;\"> </p>,\n",
       " <p style=\"user-select: auto !important;\">지난해 3월 일본 사업을 시작한 ‘코드그라피’는 ‘K패션’ 타이틀을 강조하기보다 현지 브랜드와 같이 스토리에 집중한 브랜딩 전략을 취했다. 오프라인에서 먼저 반응이 일어났는데, 오사카 쇼핑몰 헵파이브 매장 등 3개 점은 월 8,000~9,000만 원의 안정적인 매출을 내고 있다. 다음 달에는 하라주쿠 라포레 쇼핑몰에 4호점을 오픈하고, 추가로 4~5개 점을 구축한다.</p>]"
      ]
     },
     "execution_count": 107,
     "metadata": {},
     "output_type": "execute_result"
    }
   ],
   "source": [
    "import re\n",
    "\n",
    "bodyda= data2[2]\n",
    "bodyda\n",
    "        \n"
   ]
  },
  {
   "cell_type": "code",
   "execution_count": 121,
   "metadata": {},
   "outputs": [],
   "source": [
    "main = web_data('http://www.mediadale.com/news/articleView.html?idxno=229131')"
   ]
  },
  {
   "cell_type": "code",
   "execution_count": 123,
   "metadata": {},
   "outputs": [
    {
     "name": "stdout",
     "output_type": "stream",
     "text": [
      "['최근 젠지(Gen. Z)들 사이에서 큰 화제를 모으며 폭발적인 인기를 끌고 있는 제품이 있다. 바로 뉴욕 익스프레시브 럭셔리 브랜드 코치(Coach)와 한국 브랜드 마뗑킴(Matin Kim)이 만나 출시한 ‘코치 마뗑킴 리미티드 컬래버레이션 컬렉션(이하 코치 마뗑킴 컬렉션)’이다.', <br/>, '\\n', <br/>, '\\r\\n지난 12월 말 선보인 코치 마뗑킴 컬렉션은 출시와 동시에 젠지들의 뜨거운 반응을 얻으며, 현재 온라인뿐만 아니라 오프라인에서까지 품절 행진을 이어가고 있다. 1월 24일 기준으로 코치 마뗑킴 컬렉션 카고 토트백 26은 온라인 품절, 엠브로이더드 오버사이즈드 후디 브라운 컬러와 베이스볼 캡 두 컬러는 모두 온라인에 이어 오프라인까지 품절 상태다. 다른 제품들 역시 실시간으로 재고 상황이 변경되고 있다.', <br/>, '\\n', <br/>, '\\r\\n또한 오는 2월 2일까지 롯데백화점 에비뉴엘 잠실점에서 운영되는 코치 마뗑킴 팝업에 고객들의 방문도 이어지고 있다. 이곳에서는 코치 공식 온라인 스토어에서 품절된 제품을 포함해 코치 마뗑킴 컬렉션의 전 제품을 만나볼 수 있다. 오프라인 매장에서 품절된 전시 제품 구매 여부를 문의하는 고객도 생겼다.', <br/>, '\\n', <br/>, '\\r\\n코치 마뗑킴 컬렉션이 이렇게 뜨거운 반응을 얻은 배경에는 젠지 세대의 취향을 정확히 겨냥한 전략이 있다. 미국과 한국의 젠지 사이에서 큰 인기를 끌고 있는 코치와 마뗑킴의 만남은 그 자체로 희소 가치를 높였으며, 로고와 소재의 믹스매치 디자인은 소비자들에게 신선한 재미를 선사했다. 특히 로고를 숨기기보다 대담하게 드러내는 디자인은 젠지 세대의 개성과 자유로운 자기 표현 욕구를 충족시키며 강한 공감을 이끌어냈다.', <br/>, '\\n', <br/>, '\\r\\n코치는 이번 코치 마뗑킴 컬렉션뿐 아니라 젠지 세대를 타깃으로 한 다양한 마케팅 활동과 신제품 출시를 이어오고 있다. 최근에는 ‘백꾸’ 트렌드를 반영해 2024 가을 컬렉션에서 키치한 스타일의 백참 아이템도 선보여 눈길을 사로잡았다. 앞으로도 코치는 젠지 세대를 중심으로 진정성과 자기 표현의 가치를 담아내는 브랜드로 자리매김할 계획이다.', <br/>, '\\n', <br/>, '\\r\\n한편, 코치 마뗑킴 컬렉션은 코치 마뗑킴 팝업 스토어를 비롯해 코치 공식 온라인 스토어 및 일부 코치 백화점 매장에서 만나볼 수 있다.', <br/>, '\\n', <br/>, '\\r\\n\\xa0']\n"
     ]
    }
   ],
   "source": [
    "main\n",
    "print(list(main[2]))"
   ]
  },
  {
   "cell_type": "code",
   "execution_count": 125,
   "metadata": {},
   "outputs": [
    {
     "data": {
      "text/plain": [
       "['최근 젠지(Gen. Z)들 사이에서 큰 화제를 모으며 폭발적인 인기를 끌고 있는 제품이 있다. 바로 뉴욕 익스프레시브 럭셔리 브랜드 코치(Coach)와 한국 브랜드 마뗑킴(Matin Kim)이 만나 출시한 ‘코치 마뗑킴 리미티드 컬래버레이션 컬렉션(이하 코치 마뗑킴 컬렉션)’이다.',\n",
       " <br/>,\n",
       " '\\n',\n",
       " <br/>,\n",
       " '\\r\\n지난 12월 말 선보인 코치 마뗑킴 컬렉션은 출시와 동시에 젠지들의 뜨거운 반응을 얻으며, 현재 온라인뿐만 아니라 오프라인에서까지 품절 행진을 이어가고 있다. 1월 24일 기준으로 코치 마뗑킴 컬렉션 카고 토트백 26은 온라인 품절, 엠브로이더드 오버사이즈드 후디 브라운 컬러와 베이스볼 캡 두 컬러는 모두 온라인에 이어 오프라인까지 품절 상태다. 다른 제품들 역시 실시간으로 재고 상황이 변경되고 있다.',\n",
       " <br/>,\n",
       " '\\n',\n",
       " <br/>,\n",
       " '\\r\\n또한 오는 2월 2일까지 롯데백화점 에비뉴엘 잠실점에서 운영되는 코치 마뗑킴 팝업에 고객들의 방문도 이어지고 있다. 이곳에서는 코치 공식 온라인 스토어에서 품절된 제품을 포함해 코치 마뗑킴 컬렉션의 전 제품을 만나볼 수 있다. 오프라인 매장에서 품절된 전시 제품 구매 여부를 문의하는 고객도 생겼다.',\n",
       " <br/>,\n",
       " '\\n',\n",
       " <br/>,\n",
       " '\\r\\n코치 마뗑킴 컬렉션이 이렇게 뜨거운 반응을 얻은 배경에는 젠지 세대의 취향을 정확히 겨냥한 전략이 있다. 미국과 한국의 젠지 사이에서 큰 인기를 끌고 있는 코치와 마뗑킴의 만남은 그 자체로 희소 가치를 높였으며, 로고와 소재의 믹스매치 디자인은 소비자들에게 신선한 재미를 선사했다. 특히 로고를 숨기기보다 대담하게 드러내는 디자인은 젠지 세대의 개성과 자유로운 자기 표현 욕구를 충족시키며 강한 공감을 이끌어냈다.',\n",
       " <br/>,\n",
       " '\\n',\n",
       " <br/>,\n",
       " '\\r\\n코치는 이번 코치 마뗑킴 컬렉션뿐 아니라 젠지 세대를 타깃으로 한 다양한 마케팅 활동과 신제품 출시를 이어오고 있다. 최근에는 ‘백꾸’ 트렌드를 반영해 2024 가을 컬렉션에서 키치한 스타일의 백참 아이템도 선보여 눈길을 사로잡았다. 앞으로도 코치는 젠지 세대를 중심으로 진정성과 자기 표현의 가치를 담아내는 브랜드로 자리매김할 계획이다.',\n",
       " <br/>,\n",
       " '\\n',\n",
       " <br/>,\n",
       " '\\r\\n한편, 코치 마뗑킴 컬렉션은 코치 마뗑킴 팝업 스토어를 비롯해 코치 공식 온라인 스토어 및 일부 코치 백화점 매장에서 만나볼 수 있다.',\n",
       " <br/>,\n",
       " '\\n',\n",
       " <br/>,\n",
       " '\\r\\n\\xa0']"
      ]
     },
     "execution_count": 125,
     "metadata": {},
     "output_type": "execute_result"
    }
   ],
   "source": [
    "clean = list(main[2])\n",
    "clean"
   ]
  },
  {
   "cell_type": "code",
   "execution_count": null,
   "metadata": {},
   "outputs": [],
   "source": []
  }
 ],
 "metadata": {
  "kernelspec": {
   "display_name": "project",
   "language": "python",
   "name": "python3"
  },
  "language_info": {
   "codemirror_mode": {
    "name": "ipython",
    "version": 3
   },
   "file_extension": ".py",
   "mimetype": "text/x-python",
   "name": "python",
   "nbconvert_exporter": "python",
   "pygments_lexer": "ipython3",
   "version": "3.10.16"
  }
 },
 "nbformat": 4,
 "nbformat_minor": 2
}
